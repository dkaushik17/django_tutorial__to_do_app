{
 "cells": [
  {
   "cell_type": "code",
   "execution_count": 1,
   "id": "39a2be65",
   "metadata": {
    "ExecuteTime": {
     "end_time": "2022-10-20T12:02:59.170742Z",
     "start_time": "2022-10-20T12:02:59.167318Z"
    }
   },
   "outputs": [],
   "source": [
    "import os\n",
    "import django\n",
    "os.environ.setdefault('DJANGO_SETTINGS_MODULE', 'rest.settings')\n",
    "os.environ[\"DJANGO_ALLOW_ASYNC_UNSAFE\"] = \"true\"\n",
    "django.setup()"
   ]
  },
  {
   "cell_type": "code",
   "execution_count": 25,
   "id": "89ca5540",
   "metadata": {
    "ExecuteTime": {
     "end_time": "2022-10-17T03:58:43.575510Z",
     "start_time": "2022-10-17T03:58:43.571180Z"
    }
   },
   "outputs": [],
   "source": [
    "from math import ceil"
   ]
  },
  {
   "cell_type": "code",
   "execution_count": 30,
   "id": "007a65c2",
   "metadata": {
    "ExecuteTime": {
     "end_time": "2022-10-17T03:59:39.465317Z",
     "start_time": "2022-10-17T03:59:39.462322Z"
    }
   },
   "outputs": [
    {
     "data": {
      "text/plain": [
       "3"
      ]
     },
     "execution_count": 30,
     "metadata": {},
     "output_type": "execute_result"
    }
   ],
   "source": [
    "ceil(14 / 5 )"
   ]
  },
  {
   "cell_type": "code",
   "execution_count": 37,
   "id": "f5a8afd5",
   "metadata": {
    "ExecuteTime": {
     "end_time": "2022-10-17T05:31:28.199609Z",
     "start_time": "2022-10-17T05:31:28.195971Z"
    }
   },
   "outputs": [
    {
     "data": {
      "text/plain": [
       "<QuerySet [<User: admin>, <User: dhruv_kaushik>]>"
      ]
     },
     "execution_count": 37,
     "metadata": {},
     "output_type": "execute_result"
    }
   ],
   "source": [
    "User.objects.all()"
   ]
  },
  {
   "cell_type": "code",
   "execution_count": 34,
   "id": "3a255db8",
   "metadata": {
    "ExecuteTime": {
     "end_time": "2022-10-17T04:00:45.190910Z",
     "start_time": "2022-10-17T04:00:45.186320Z"
    }
   },
   "outputs": [
    {
     "name": "stdout",
     "output_type": "stream",
     "text": [
      "current_page: 3\n",
      "total_pages: 3\n",
      "total_tasks: 14\n",
      "start_index: 10\n",
      "end_index: 14\n"
     ]
    }
   ],
   "source": [
    "page_size = 5\n",
    "# fetch the total records after the filteration\n",
    "total_tasks = 14\n",
    "total_pages = ceil(total_tasks / page_size)\n",
    "current_page = 3\n",
    "# calculated the limits for the query to fetch the records from the db\n",
    "start_index = (current_page - 1) * (page_size)\n",
    "end_index = start_index + page_size - 1\n",
    "print(\"current_page:\", current_page)\n",
    "print(\"total_pages:\", total_pages)\n",
    "print(\"total_tasks:\", total_tasks)\n",
    "print(\"start_index:\", start_index)\n",
    "print(\"end_index:\", end_index)"
   ]
  },
  {
   "cell_type": "code",
   "execution_count": 21,
   "id": "bf6683ad",
   "metadata": {
    "ExecuteTime": {
     "end_time": "2022-10-17T03:48:54.344016Z",
     "start_time": "2022-10-17T03:48:54.341861Z"
    }
   },
   "outputs": [],
   "source": [
    "created_by_ids= [2]\n",
    "tag_uuids=['2e41497c-9c1d-4b21-886e-ff2c0501cd6b' ]"
   ]
  },
  {
   "cell_type": "code",
   "execution_count": 22,
   "id": "9ae9c327",
   "metadata": {
    "ExecuteTime": {
     "end_time": "2022-10-17T03:48:58.698412Z",
     "start_time": "2022-10-17T03:48:58.693462Z"
    }
   },
   "outputs": [
    {
     "name": "stdout",
     "output_type": "stream",
     "text": [
      "query_params {'created_by': [2], 'tags': ['2e41497c-9c1d-4b21-886e-ff2c0501cd6b']}\n",
      "created_by_ids: [2]\n",
      "tag_uuids: ['2e41497c-9c1d-4b21-886e-ff2c0501cd6b']\n",
      "(AND: ('created_by__id__in', [2]), ('tags__uuid__in', ['2e41497c-9c1d-4b21-886e-ff2c0501cd6b']))\n"
     ]
    }
   ],
   "source": [
    "print(\"query_params\", query_params)\n",
    "query = Q()\n",
    "# Filtering based on the created_by field\n",
    "#created_by_ids = query_params.getlist('created_by')\n",
    "print(\"created_by_ids:\", created_by_ids)\n",
    "if created_by_ids:\n",
    "    query &= Q(created_by__id__in=created_by_ids)\n",
    "# Filtering based on related tags\n",
    "#tag_uuids = query_params.getlist('tags')\n",
    "print(\"tag_uuids:\", tag_uuids)\n",
    "if tag_uuids:\n",
    "    query &= Q(tags__uuid__in=tag_uuids)\n",
    "print(query)"
   ]
  },
  {
   "cell_type": "code",
   "execution_count": 9,
   "id": "061f1690",
   "metadata": {
    "ExecuteTime": {
     "end_time": "2022-10-17T03:43:29.521371Z",
     "start_time": "2022-10-17T03:43:29.518873Z"
    }
   },
   "outputs": [],
   "source": [
    "# query &= Q(tags__uuid__in=['2e41497c-9c1d-4b21-886e-ff2c0501cd6b'])"
   ]
  },
  {
   "cell_type": "code",
   "execution_count": 23,
   "id": "b3782a61",
   "metadata": {
    "ExecuteTime": {
     "end_time": "2022-10-17T03:49:13.424450Z",
     "start_time": "2022-10-17T03:49:13.419572Z"
    }
   },
   "outputs": [
    {
     "data": {
      "text/plain": [
       "<QuerySet [Django Admin Features, Django Index options, Serializers, Viewsets]>"
      ]
     },
     "execution_count": 23,
     "metadata": {},
     "output_type": "execute_result"
    }
   ],
   "source": [
    "Task.objects.filter(query)"
   ]
  },
  {
   "cell_type": "code",
   "execution_count": 35,
   "id": "0bb75005",
   "metadata": {
    "ExecuteTime": {
     "end_time": "2022-10-17T04:13:16.079942Z",
     "start_time": "2022-10-17T04:13:16.075377Z"
    }
   },
   "outputs": [
    {
     "data": {
      "text/plain": [
       "<QuerySet [Django Admin Features, Django Index options, Serializers, Viewsets]>"
      ]
     },
     "execution_count": 35,
     "metadata": {},
     "output_type": "execute_result"
    }
   ],
   "source": [
    "Task.objects.all()"
   ]
  },
  {
   "cell_type": "code",
   "execution_count": 36,
   "id": "1f9aece8",
   "metadata": {
    "ExecuteTime": {
     "end_time": "2022-10-17T04:13:27.921604Z",
     "start_time": "2022-10-17T04:13:27.917550Z"
    }
   },
   "outputs": [
    {
     "data": {
      "text/plain": [
       "4"
      ]
     },
     "execution_count": 36,
     "metadata": {},
     "output_type": "execute_result"
    }
   ],
   "source": [
    "Task.objects.count()"
   ]
  },
  {
   "cell_type": "code",
   "execution_count": 42,
   "id": "58510606",
   "metadata": {
    "ExecuteTime": {
     "end_time": "2022-10-17T06:21:10.695133Z",
     "start_time": "2022-10-17T06:21:10.692819Z"
    }
   },
   "outputs": [],
   "source": [
    "from django.db.models import Count"
   ]
  },
  {
   "cell_type": "code",
   "execution_count": 40,
   "id": "0a9fa9c2",
   "metadata": {
    "ExecuteTime": {
     "end_time": "2022-10-17T06:20:12.629289Z",
     "start_time": "2022-10-17T06:20:12.626206Z"
    }
   },
   "outputs": [],
   "source": [
    "tag = Tag.objects.get(uuid=\"74890ac5-e1ac-45e7-bedf-c01ac6ee2e43\")"
   ]
  },
  {
   "cell_type": "code",
   "execution_count": 50,
   "id": "c086cb83",
   "metadata": {
    "ExecuteTime": {
     "end_time": "2022-10-17T06:24:39.034449Z",
     "start_time": "2022-10-17T06:24:39.031926Z"
    }
   },
   "outputs": [],
   "source": [
    "task_count_grouped_by_completion_status = (\n",
    "    tag\n",
    "    .tasks\n",
    "    .values('completion_status')\n",
    "    .annotate(\n",
    "        task_count=Count('completion_status'),\n",
    "    )\n",
    "    .values(\n",
    "        'task_count',\n",
    "        'completion_status'\n",
    "    )\n",
    ")"
   ]
  },
  {
   "cell_type": "code",
   "execution_count": 48,
   "id": "40d1ae1b",
   "metadata": {
    "ExecuteTime": {
     "end_time": "2022-10-17T06:24:03.192761Z",
     "start_time": "2022-10-17T06:24:03.189287Z"
    }
   },
   "outputs": [
    {
     "data": {
      "text/plain": [
       "<QuerySet [{'completion_status': 'COMPLETED', 'task_count': 1}, {'completion_status': 'INCOMPLETE', 'task_count': 5}]>"
      ]
     },
     "execution_count": 48,
     "metadata": {},
     "output_type": "execute_result"
    }
   ],
   "source": [
    "task_count_grouped_by_completion_status"
   ]
  },
  {
   "cell_type": "code",
   "execution_count": 52,
   "id": "a9852ee1",
   "metadata": {
    "ExecuteTime": {
     "end_time": "2022-10-17T07:04:48.633084Z",
     "start_time": "2022-10-17T07:04:48.629855Z"
    }
   },
   "outputs": [],
   "source": [
    "task = Task.objects.last()"
   ]
  },
  {
   "cell_type": "code",
   "execution_count": 53,
   "id": "dcf85491",
   "metadata": {
    "ExecuteTime": {
     "end_time": "2022-10-17T07:05:22.259903Z",
     "start_time": "2022-10-17T07:05:22.254466Z"
    }
   },
   "outputs": [
    {
     "data": {
      "text/plain": [
       "<QuerySet [web-development, django, django-rest-framework]>"
      ]
     },
     "execution_count": 53,
     "metadata": {},
     "output_type": "execute_result"
    }
   ],
   "source": [
    "task.tags.all()"
   ]
  },
  {
   "cell_type": "code",
   "execution_count": 56,
   "id": "cb7dfddd",
   "metadata": {
    "ExecuteTime": {
     "end_time": "2022-10-17T22:33:00.230440Z",
     "start_time": "2022-10-17T22:33:00.227419Z"
    }
   },
   "outputs": [
    {
     "data": {
      "text/plain": [
       "['COMPLETED', 'INCOMPLETE']"
      ]
     },
     "execution_count": 56,
     "metadata": {},
     "output_type": "execute_result"
    }
   ],
   "source": [
    "Task.CompletionStatus.names"
   ]
  },
  {
   "cell_type": "code",
   "execution_count": 69,
   "id": "99704c0d",
   "metadata": {
    "ExecuteTime": {
     "end_time": "2022-10-17T23:20:29.817455Z",
     "start_time": "2022-10-17T23:20:29.815024Z"
    }
   },
   "outputs": [],
   "source": [
    "validated_task_data = {\n",
    "    \"title\" : \"some-title\",\n",
    "    \"text\" : \"some-text\",\n",
    "    \"created_by_id\": 2\n",
    "}\n",
    "tags = Tag.objects.filter(\n",
    "    uuid__in = [\n",
    "        \"74890ac5-e1ac-45e7-bedf-c01ac6ee2e43\"\n",
    "    ]\n",
    ")"
   ]
  },
  {
   "cell_type": "code",
   "execution_count": 64,
   "id": "60171721",
   "metadata": {
    "ExecuteTime": {
     "end_time": "2022-10-17T23:18:35.970774Z",
     "start_time": "2022-10-17T23:18:35.935253Z"
    }
   },
   "outputs": [],
   "source": [
    "task = Task.objects.create(\n",
    "    **validated_task_data\n",
    ")"
   ]
  },
  {
   "cell_type": "code",
   "execution_count": 71,
   "id": "99f94f9e",
   "metadata": {
    "ExecuteTime": {
     "end_time": "2022-10-17T23:20:36.248771Z",
     "start_time": "2022-10-17T23:20:36.240476Z"
    }
   },
   "outputs": [],
   "source": [
    "task.tags.set(tags)"
   ]
  },
  {
   "cell_type": "markdown",
   "id": "4fd7999d",
   "metadata": {},
   "source": [
    "# PageNumberPagination "
   ]
  },
  {
   "cell_type": "code",
   "execution_count": 2,
   "id": "b2a8583b",
   "metadata": {
    "ExecuteTime": {
     "end_time": "2022-10-20T12:03:12.239058Z",
     "start_time": "2022-10-20T12:03:12.236743Z"
    }
   },
   "outputs": [],
   "source": [
    "tags = Tag.objects.all()"
   ]
  },
  {
   "cell_type": "code",
   "execution_count": 4,
   "id": "81caacae",
   "metadata": {
    "ExecuteTime": {
     "end_time": "2022-10-20T12:04:22.958537Z",
     "start_time": "2022-10-20T12:04:22.956279Z"
    }
   },
   "outputs": [],
   "source": [
    "from rest_framework.pagination import PageNumberPagination\n",
    "from rest_framework.response import Response\n",
    "from rest_framework.request import Request"
   ]
  },
  {
   "cell_type": "code",
   "execution_count": 5,
   "id": "5087f215",
   "metadata": {
    "ExecuteTime": {
     "end_time": "2022-10-20T12:04:25.462903Z",
     "start_time": "2022-10-20T12:04:25.460666Z"
    }
   },
   "outputs": [],
   "source": [
    "class CustomPagination(PageNumberPagination):\n",
    "    page_size = 2\n",
    "    page_size_query_param = 'page_size'\n",
    "    max_page_size = 50\n",
    "    page_query_param = 'page'"
   ]
  },
  {
   "cell_type": "code",
   "execution_count": 6,
   "id": "1f4b4764",
   "metadata": {
    "ExecuteTime": {
     "end_time": "2022-10-20T12:04:49.469465Z",
     "start_time": "2022-10-20T12:04:49.466864Z"
    }
   },
   "outputs": [],
   "source": [
    "paginator = CustomPagination()"
   ]
  },
  {
   "cell_type": "code",
   "execution_count": 7,
   "id": "f0e0a576",
   "metadata": {
    "ExecuteTime": {
     "end_time": "2022-10-20T12:05:13.632464Z",
     "start_time": "2022-10-20T12:05:13.300043Z"
    }
   },
   "outputs": [
    {
     "ename": "TypeError",
     "evalue": "paginate_queryset() missing 1 required positional argument: 'request'",
     "output_type": "error",
     "traceback": [
      "\u001b[0;31m---------------------------------------------------------------------------\u001b[0m",
      "\u001b[0;31mTypeError\u001b[0m                                 Traceback (most recent call last)",
      "Input \u001b[0;32mIn [7]\u001b[0m, in \u001b[0;36m<cell line: 1>\u001b[0;34m()\u001b[0m\n\u001b[0;32m----> 1\u001b[0m paginated_data \u001b[38;5;241m=\u001b[39m \u001b[43mpaginator\u001b[49m\u001b[38;5;241;43m.\u001b[39;49m\u001b[43mpaginate_queryset\u001b[49m\u001b[43m(\u001b[49m\u001b[43mtags\u001b[49m\u001b[43m)\u001b[49m\n",
      "\u001b[0;31mTypeError\u001b[0m: paginate_queryset() missing 1 required positional argument: 'request'"
     ]
    }
   ],
   "source": [
    "paginated_data = paginator.paginate_queryset(\n",
    "    queryset=tags\n",
    "    request=request,\n",
    ")"
   ]
  },
  {
   "cell_type": "code",
   "execution_count": 8,
   "id": "47991d9d",
   "metadata": {
    "ExecuteTime": {
     "end_time": "2022-10-20T12:40:20.681607Z",
     "start_time": "2022-10-20T12:40:20.671041Z"
    }
   },
   "outputs": [],
   "source": [
    "from datetime import datetime"
   ]
  },
  {
   "cell_type": "code",
   "execution_count": 13,
   "id": "09bac42d",
   "metadata": {
    "ExecuteTime": {
     "end_time": "2022-10-20T12:40:57.261642Z",
     "start_time": "2022-10-20T12:40:57.258400Z"
    }
   },
   "outputs": [
    {
     "data": {
      "text/plain": [
       "False"
      ]
     },
     "execution_count": 13,
     "metadata": {},
     "output_type": "execute_result"
    }
   ],
   "source": [
    "datetime.today().date() < datetime.today().date()"
   ]
  },
  {
   "cell_type": "code",
   "execution_count": null,
   "id": "c2cc7666",
   "metadata": {},
   "outputs": [],
   "source": []
  }
 ],
 "metadata": {
  "kernelspec": {
   "display_name": "Django Shell-Plus",
   "language": "python",
   "name": "django_extensions"
  },
  "language_info": {
   "codemirror_mode": {
    "name": "ipython",
    "version": 3
   },
   "file_extension": ".py",
   "mimetype": "text/x-python",
   "name": "python",
   "nbconvert_exporter": "python",
   "pygments_lexer": "ipython3",
   "version": "3.8.10"
  },
  "toc": {
   "base_numbering": 1,
   "nav_menu": {},
   "number_sections": true,
   "sideBar": true,
   "skip_h1_title": false,
   "title_cell": "Table of Contents",
   "title_sidebar": "Contents",
   "toc_cell": false,
   "toc_position": {},
   "toc_section_display": true,
   "toc_window_display": false
  },
  "varInspector": {
   "cols": {
    "lenName": 16,
    "lenType": 16,
    "lenVar": 40
   },
   "kernels_config": {
    "python": {
     "delete_cmd_postfix": "",
     "delete_cmd_prefix": "del ",
     "library": "var_list.py",
     "varRefreshCmd": "print(var_dic_list())"
    },
    "r": {
     "delete_cmd_postfix": ") ",
     "delete_cmd_prefix": "rm(",
     "library": "var_list.r",
     "varRefreshCmd": "cat(var_dic_list()) "
    }
   },
   "types_to_exclude": [
    "module",
    "function",
    "builtin_function_or_method",
    "instance",
    "_Feature"
   ],
   "window_display": false
  }
 },
 "nbformat": 4,
 "nbformat_minor": 5
}
